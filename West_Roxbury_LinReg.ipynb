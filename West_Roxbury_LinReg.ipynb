{
 "cells": [
  {
   "cell_type": "markdown",
   "metadata": {},
   "source": [
    "## Linear Regression Model "
   ]
  },
  {
   "cell_type": "markdown",
   "metadata": {},
   "source": [
    "In this use case, i have predicted the total assessed value for property in West Roxbury, using the given set of features (independent) variables, using Multiple Linear Regression OLS method.<br>\n",
    "Dataset:**WestRoxbury.csv**.<br>\n",
    "The dataset contains information about different value of the properties in West Roxbury.<br>\n",
    "The value of the properties is available under the variable TOTAL_VALUE, which is the target variable, and all the other variables are the feature variables.<br> \n",
    "\n",
    "**Reference:**<br>\n",
    "Shmueli, G. (2018). Data Minning for Busuiness analytics: Concepts,Techniques and application with.<br>\n",
    "\n",
    "**Data Dictionary:**<br>\n",
    "\n",
    "* LOT_SQFT: Total lot size of parcel in square feet<br>\n",
    "\n",
    "* YR_BUILT: Year property was built<br>\n",
    "\n",
    "* GROSS_AREA: Gross floor area<br>\n",
    "\n",
    "* LIVING_AREA: Total living area for residential properties (ft2)<br>\n",
    "\n",
    "* FLOORS: Number of floors<br>\n",
    "\n",
    "* ROOMS: Total number of rooms<br>\n",
    "\n",
    "* BEDROOMS: Total number of bedrooms<br>\n",
    "\n",
    "* FULL_BATH: Total number of full baths<br>\n",
    "\n",
    "* HALF_BATH: Total number of half baths<br>\n",
    "\n",
    "* KITCHEN: Total number of kitchens<br>\n",
    "\n",
    "* FIREPLACE: Total number of fireplaces<br>\n",
    "\n",
    "* REMODEL_None: House was not remodeled (Yes = 1, No=0)<br>\n",
    "\n",
    "* REMODEL_Recent: House was recently remodeled (Yes = 1, No=0)<br>\n",
    "\n",
    "* TOTAL_VALUE: Total assessed value for property, in thousands of USD<br>"
   ]
  },
  {
   "cell_type": "code",
   "execution_count": 1,
   "metadata": {},
   "outputs": [],
   "source": [
    "# Import packages\n",
    "import pandas as pd\n",
    "import numpy as np\n",
    "import statsmodels.api as sm\n",
    "\n",
    "import seaborn as sns\n",
    "import matplotlib.pyplot as plt\n",
    "from sklearn import linear_model"
   ]
  },
  {
   "cell_type": "code",
   "execution_count": 2,
   "metadata": {},
   "outputs": [],
   "source": [
    "# Import dataset with variables \n",
    "westroxbury_df = pd.read_csv('WestRoxbury.csv')"
   ]
  },
  {
   "cell_type": "code",
   "execution_count": 3,
   "metadata": {},
   "outputs": [
    {
     "data": {
      "text/html": [
       "<div>\n",
       "<style scoped>\n",
       "    .dataframe tbody tr th:only-of-type {\n",
       "        vertical-align: middle;\n",
       "    }\n",
       "\n",
       "    .dataframe tbody tr th {\n",
       "        vertical-align: top;\n",
       "    }\n",
       "\n",
       "    .dataframe thead th {\n",
       "        text-align: right;\n",
       "    }\n",
       "</style>\n",
       "<table border=\"1\" class=\"dataframe\">\n",
       "  <thead>\n",
       "    <tr style=\"text-align: right;\">\n",
       "      <th></th>\n",
       "      <th>LOT_SQFT</th>\n",
       "      <th>YR_BUILT</th>\n",
       "      <th>GROSS_AREA</th>\n",
       "      <th>LIVING_AREA</th>\n",
       "      <th>FLOORS</th>\n",
       "      <th>ROOMS</th>\n",
       "      <th>BEDROOMS</th>\n",
       "      <th>FULL_BATH</th>\n",
       "      <th>HALF_BATH</th>\n",
       "      <th>KITCHEN</th>\n",
       "      <th>FIREPLACE</th>\n",
       "      <th>REMODEL_None</th>\n",
       "      <th>REMODEL_Recent</th>\n",
       "      <th>TOTAL_VALUE</th>\n",
       "    </tr>\n",
       "  </thead>\n",
       "  <tbody>\n",
       "    <tr>\n",
       "      <td>0</td>\n",
       "      <td>9965</td>\n",
       "      <td>1880</td>\n",
       "      <td>2436</td>\n",
       "      <td>1352</td>\n",
       "      <td>2.0</td>\n",
       "      <td>6</td>\n",
       "      <td>3</td>\n",
       "      <td>1</td>\n",
       "      <td>1</td>\n",
       "      <td>1</td>\n",
       "      <td>0</td>\n",
       "      <td>1</td>\n",
       "      <td>0</td>\n",
       "      <td>344.2</td>\n",
       "    </tr>\n",
       "    <tr>\n",
       "      <td>1</td>\n",
       "      <td>6590</td>\n",
       "      <td>1945</td>\n",
       "      <td>3108</td>\n",
       "      <td>1976</td>\n",
       "      <td>2.0</td>\n",
       "      <td>10</td>\n",
       "      <td>4</td>\n",
       "      <td>2</td>\n",
       "      <td>1</td>\n",
       "      <td>1</td>\n",
       "      <td>0</td>\n",
       "      <td>0</td>\n",
       "      <td>1</td>\n",
       "      <td>412.6</td>\n",
       "    </tr>\n",
       "    <tr>\n",
       "      <td>2</td>\n",
       "      <td>7500</td>\n",
       "      <td>1890</td>\n",
       "      <td>2294</td>\n",
       "      <td>1371</td>\n",
       "      <td>2.0</td>\n",
       "      <td>8</td>\n",
       "      <td>4</td>\n",
       "      <td>1</td>\n",
       "      <td>1</td>\n",
       "      <td>1</td>\n",
       "      <td>0</td>\n",
       "      <td>1</td>\n",
       "      <td>0</td>\n",
       "      <td>330.1</td>\n",
       "    </tr>\n",
       "    <tr>\n",
       "      <td>3</td>\n",
       "      <td>13773</td>\n",
       "      <td>1957</td>\n",
       "      <td>5032</td>\n",
       "      <td>2608</td>\n",
       "      <td>1.0</td>\n",
       "      <td>9</td>\n",
       "      <td>5</td>\n",
       "      <td>1</td>\n",
       "      <td>1</td>\n",
       "      <td>1</td>\n",
       "      <td>1</td>\n",
       "      <td>1</td>\n",
       "      <td>0</td>\n",
       "      <td>498.6</td>\n",
       "    </tr>\n",
       "    <tr>\n",
       "      <td>4</td>\n",
       "      <td>5000</td>\n",
       "      <td>1910</td>\n",
       "      <td>2370</td>\n",
       "      <td>1438</td>\n",
       "      <td>2.0</td>\n",
       "      <td>7</td>\n",
       "      <td>3</td>\n",
       "      <td>2</td>\n",
       "      <td>0</td>\n",
       "      <td>1</td>\n",
       "      <td>0</td>\n",
       "      <td>1</td>\n",
       "      <td>0</td>\n",
       "      <td>331.5</td>\n",
       "    </tr>\n",
       "  </tbody>\n",
       "</table>\n",
       "</div>"
      ],
      "text/plain": [
       "   LOT_SQFT  YR_BUILT  GROSS_AREA  LIVING_AREA  FLOORS  ROOMS  BEDROOMS  \\\n",
       "0      9965      1880        2436         1352     2.0      6         3   \n",
       "1      6590      1945        3108         1976     2.0     10         4   \n",
       "2      7500      1890        2294         1371     2.0      8         4   \n",
       "3     13773      1957        5032         2608     1.0      9         5   \n",
       "4      5000      1910        2370         1438     2.0      7         3   \n",
       "\n",
       "   FULL_BATH  HALF_BATH  KITCHEN  FIREPLACE  REMODEL_None  REMODEL_Recent  \\\n",
       "0          1          1        1          0             1               0   \n",
       "1          2          1        1          0             0               1   \n",
       "2          1          1        1          0             1               0   \n",
       "3          1          1        1          1             1               0   \n",
       "4          2          0        1          0             1               0   \n",
       "\n",
       "   TOTAL_VALUE  \n",
       "0        344.2  \n",
       "1        412.6  \n",
       "2        330.1  \n",
       "3        498.6  \n",
       "4        331.5  "
      ]
     },
     "execution_count": 3,
     "metadata": {},
     "output_type": "execute_result"
    }
   ],
   "source": [
    "# View few rows of the dataframe\n",
    "westroxbury_df.head()"
   ]
  },
  {
   "cell_type": "code",
   "execution_count": 4,
   "metadata": {
    "scrolled": true
   },
   "outputs": [
    {
     "name": "stdout",
     "output_type": "stream",
     "text": [
      "(5802, 14)\n"
     ]
    }
   ],
   "source": [
    "# View shape of dataset\n",
    "print(westroxbury_df.shape)"
   ]
  },
  {
   "cell_type": "markdown",
   "metadata": {},
   "source": [
    "#### There are 5802 records and 14 variables in the dataframe"
   ]
  },
  {
   "cell_type": "markdown",
   "metadata": {},
   "source": [
    "### Data Preparation"
   ]
  },
  {
   "cell_type": "code",
   "execution_count": 5,
   "metadata": {},
   "outputs": [],
   "source": [
    "## Convert integer variables to relevant categorical variables\n",
    "westroxbury_df['FLOORS'] = westroxbury_df['FLOORS'].astype('category')\n",
    "westroxbury_df['ROOMS'] = westroxbury_df['ROOMS'].astype('category')\n",
    "westroxbury_df['BEDROOMS'] = westroxbury_df['BEDROOMS'].astype('category')\n",
    "westroxbury_df['FULL_BATH'] = westroxbury_df['FULL_BATH'].astype('category')\n",
    "westroxbury_df['HALF_BATH'] = westroxbury_df['HALF_BATH'].astype('category')\n",
    "westroxbury_df['KITCHEN'] = westroxbury_df['KITCHEN'].astype('category')\n",
    "westroxbury_df['FIREPLACE'] = westroxbury_df['FIREPLACE'].astype('category')\n",
    "westroxbury_df['REMODEL_None'] = westroxbury_df['REMODEL_None'].astype('category')\n",
    "westroxbury_df['REMODEL_Recent'] = westroxbury_df['REMODEL_Recent'].astype('category')"
   ]
  },
  {
   "cell_type": "code",
   "execution_count": 6,
   "metadata": {},
   "outputs": [
    {
     "data": {
      "text/plain": [
       "count    5802.000000\n",
       "mean       83.255084\n",
       "std        35.989910\n",
       "min         9.000000\n",
       "25%        65.000000\n",
       "50%        85.000000\n",
       "75%       100.000000\n",
       "max      2020.000000\n",
       "Name: building_age, dtype: float64"
      ]
     },
     "execution_count": 6,
     "metadata": {},
     "output_type": "execute_result"
    }
   ],
   "source": [
    "# Creating a derived variable ‘building_age’ based on ‘YR_BUILT’ \n",
    "westroxbury_df['building_age'] = 2020 - westroxbury_df['YR_BUILT']\n",
    "westroxbury_df['building_age'].describe()"
   ]
  },
  {
   "cell_type": "code",
   "execution_count": 7,
   "metadata": {},
   "outputs": [],
   "source": [
    "# Deleting the ‘YR_BUILT’ variable\n",
    "westroxbury_df.drop(['YR_BUILT'], axis=1, inplace=True)"
   ]
  },
  {
   "cell_type": "markdown",
   "metadata": {},
   "source": [
    "## Univariate Analysis"
   ]
  },
  {
   "cell_type": "code",
   "execution_count": 8,
   "metadata": {},
   "outputs": [
    {
     "data": {
      "text/plain": [
       "count     5802.000000\n",
       "mean      6278.083764\n",
       "std       2669.707974\n",
       "min        997.000000\n",
       "25%       4772.000000\n",
       "50%       5683.000000\n",
       "75%       7022.250000\n",
       "max      46411.000000\n",
       "Name: LOT_SQFT, dtype: float64"
      ]
     },
     "execution_count": 8,
     "metadata": {},
     "output_type": "execute_result"
    }
   ],
   "source": [
    "# Summary of LOT_SQFT variable\n",
    "westroxbury_df['LOT_SQFT'].describe()"
   ]
  },
  {
   "cell_type": "code",
   "execution_count": 9,
   "metadata": {},
   "outputs": [
    {
     "data": {
      "text/plain": [
       "count    5802.000000\n",
       "mean     2924.842123\n",
       "std       883.984726\n",
       "min       821.000000\n",
       "25%      2347.000000\n",
       "50%      2700.000000\n",
       "75%      3239.000000\n",
       "max      8154.000000\n",
       "Name: GROSS_AREA, dtype: float64"
      ]
     },
     "execution_count": 9,
     "metadata": {},
     "output_type": "execute_result"
    }
   ],
   "source": [
    "# Summary of GROSS_AREA variable\n",
    "westroxbury_df['GROSS_AREA'].describe()"
   ]
  },
  {
   "cell_type": "code",
   "execution_count": 10,
   "metadata": {},
   "outputs": [
    {
     "data": {
      "text/plain": [
       "count    5802.000000\n",
       "mean       83.255084\n",
       "std        35.989910\n",
       "min         9.000000\n",
       "25%        65.000000\n",
       "50%        85.000000\n",
       "75%       100.000000\n",
       "max      2020.000000\n",
       "Name: building_age, dtype: float64"
      ]
     },
     "execution_count": 10,
     "metadata": {},
     "output_type": "execute_result"
    }
   ],
   "source": [
    "# Summary of building_age variable\n",
    "westroxbury_df['building_age'].describe()"
   ]
  },
  {
   "cell_type": "code",
   "execution_count": 11,
   "metadata": {},
   "outputs": [
    {
     "data": {
      "text/plain": [
       "count    5802.000000\n",
       "mean     1657.065322\n",
       "std       540.456726\n",
       "min       504.000000\n",
       "25%      1308.000000\n",
       "50%      1548.500000\n",
       "75%      1873.750000\n",
       "max      5289.000000\n",
       "Name: LIVING_AREA, dtype: float64"
      ]
     },
     "execution_count": 11,
     "metadata": {},
     "output_type": "execute_result"
    }
   ],
   "source": [
    "# Summary of LIVING_AREA variable\n",
    "westroxbury_df['LIVING_AREA'].describe()"
   ]
  },
  {
   "cell_type": "code",
   "execution_count": 12,
   "metadata": {},
   "outputs": [
    {
     "data": {
      "text/plain": [
       "count    5802.000000\n",
       "mean      392.685715\n",
       "std        99.177414\n",
       "min       105.000000\n",
       "25%       325.125000\n",
       "50%       375.900000\n",
       "75%       438.775000\n",
       "max      1217.800000\n",
       "Name: TOTAL_VALUE, dtype: float64"
      ]
     },
     "execution_count": 12,
     "metadata": {},
     "output_type": "execute_result"
    }
   ],
   "source": [
    "# Summary of TOTAL_VALUE variable\n",
    "westroxbury_df['TOTAL_VALUE'].describe()"
   ]
  },
  {
   "cell_type": "code",
   "execution_count": 13,
   "metadata": {},
   "outputs": [
    {
     "data": {
      "image/png": "[encoded data removed]",
      "text/plain": [
       "<Figure size 432x288 with 1 Axes>"
      ]
     },
     "metadata": {
      "needs_background": "light"
     },
     "output_type": "display_data"
    }
   ],
   "source": [
    "# Histogram for LOT_SQFT\n",
    "sns.distplot(westroxbury_df['LOT_SQFT'],bins=10,kde=False);"
   ]
  },
  {
   "cell_type": "markdown",
   "metadata": {},
   "source": [
    "#### Total lot size of parcel in square feet(LOT_SQFT) is mostly between 100 to 10,000"
   ]
  },
  {
   "cell_type": "code",
   "execution_count": 14,
   "metadata": {},
   "outputs": [
    {
     "data": {
      "image/png": "[encoded data removed]",
      "text/plain": [
       "<Figure size 432x288 with 1 Axes>"
      ]
     },
     "metadata": {
      "needs_background": "light"
     },
     "output_type": "display_data"
    }
   ],
   "source": [
    "# Histogram for Building age\n",
    "sns.distplot(westroxbury_df['building_age'],bins=10,kde=False);"
   ]
  },
  {
   "cell_type": "markdown",
   "metadata": {},
   "source": [
    "#### Most buildings are between 50 and 120 years old"
   ]
  },
  {
   "cell_type": "code",
   "execution_count": 15,
   "metadata": {},
   "outputs": [
    {
     "data": {
      "image/png": "[encoded data removed]",
      "text/plain": [
       "<Figure size 432x288 with 1 Axes>"
      ]
     },
     "metadata": {
      "needs_background": "light"
     },
     "output_type": "display_data"
    }
   ],
   "source": [
    "# Histogram for GROSS_AREA\n",
    "sns.distplot(westroxbury_df['GROSS_AREA'],bins=10,kde=False);"
   ]
  },
  {
   "cell_type": "markdown",
   "metadata": {},
   "source": [
    "#### Gross floor area(GROSS_AREA) is mosty between the range of 1500 to 3700"
   ]
  },
  {
   "cell_type": "code",
   "execution_count": 16,
   "metadata": {},
   "outputs": [
    {
     "data": {
      "image/png": "[encoded data removed]",
      "text/plain": [
       "<Figure size 432x288 with 1 Axes>"
      ]
     },
     "metadata": {
      "needs_background": "light"
     },
     "output_type": "display_data"
    }
   ],
   "source": [
    "# Histogram for LIVING_AREA\n",
    "sns.distplot(westroxbury_df['LIVING_AREA'],bins=10,kde=False);"
   ]
  },
  {
   "cell_type": "markdown",
   "metadata": {},
   "source": [
    "#### Total living area for residential properties (ft2)(LIVING_AREA) is mostly between 1000ft2 to 2400ft2"
   ]
  },
  {
   "cell_type": "code",
   "execution_count": 17,
   "metadata": {},
   "outputs": [
    {
     "data": {
      "image/png": "[encoded data removed]",
      "text/plain": [
       "<Figure size 432x288 with 1 Axes>"
      ]
     },
     "metadata": {
      "needs_background": "light"
     },
     "output_type": "display_data"
    }
   ],
   "source": [
    "# Histogram for TOTAL_VALUE\n",
    "sns.distplot(westroxbury_df['TOTAL_VALUE'],bins=10,kde=False);"
   ]
  },
  {
   "cell_type": "markdown",
   "metadata": {},
   "source": [
    "#### The Total assessed value for property, in thousands of USD(TOTAL_VALUE) is mostly between 210 to 550"
   ]
  },
  {
   "cell_type": "code",
   "execution_count": 18,
   "metadata": {},
   "outputs": [
    {
     "data": {
      "image/png": "[encoded data removed]",
      "text/plain": [
       "<Figure size 432x288 with 1 Axes>"
      ]
     },
     "metadata": {
      "needs_background": "light"
     },
     "output_type": "display_data"
    }
   ],
   "source": [
    "# Boxplot for LOT_SQFT\n",
    "sns.boxplot(y = westroxbury_df['LOT_SQFT']);"
   ]
  },
  {
   "cell_type": "markdown",
   "metadata": {},
   "source": [
    "#### The median of Total lot size of parcel in square feet(LOT_SQFT) is 6000"
   ]
  },
  {
   "cell_type": "code",
   "execution_count": 19,
   "metadata": {},
   "outputs": [
    {
     "data": {
      "image/png": "[encoded data removed]",
      "text/plain": [
       "<Figure size 432x288 with 1 Axes>"
      ]
     },
     "metadata": {
      "needs_background": "light"
     },
     "output_type": "display_data"
    }
   ],
   "source": [
    "# Boxplot for Building Age\n",
    "sns.boxplot(y = westroxbury_df['building_age']);"
   ]
  },
  {
   "cell_type": "markdown",
   "metadata": {},
   "source": [
    "#### The median building age is around 85 years"
   ]
  },
  {
   "cell_type": "code",
   "execution_count": 20,
   "metadata": {},
   "outputs": [
    {
     "data": {
      "image/png": "[encoded data removed]",
      "text/plain": [
       "<Figure size 432x288 with 1 Axes>"
      ]
     },
     "metadata": {
      "needs_background": "light"
     },
     "output_type": "display_data"
    }
   ],
   "source": [
    "# Boxplot for GROSS_AREA\n",
    "sns.boxplot(y = westroxbury_df['GROSS_AREA']);"
   ]
  },
  {
   "cell_type": "markdown",
   "metadata": {},
   "source": [
    "#### The median of Gross floor area(GROSS_AREA) is 2700"
   ]
  },
  {
   "cell_type": "code",
   "execution_count": 21,
   "metadata": {},
   "outputs": [
    {
     "data": {
      "image/png": "[encoded data removed]",
      "text/plain": [
       "<Figure size 432x288 with 1 Axes>"
      ]
     },
     "metadata": {
      "needs_background": "light"
     },
     "output_type": "display_data"
    }
   ],
   "source": [
    "# Boxplot for LIVING_AREA\n",
    "sns.boxplot(y = westroxbury_df['LIVING_AREA']);"
   ]
  },
  {
   "cell_type": "markdown",
   "metadata": {},
   "source": [
    "#### The median of Total living area for residential properties (ft2)(LIVING_AREA) is 1500ft2"
   ]
  },
  {
   "cell_type": "code",
   "execution_count": 22,
   "metadata": {},
   "outputs": [
    {
     "data": {
      "image/png": "[encoded data removed]",
      "text/plain": [
       "<Figure size 432x288 with 1 Axes>"
      ]
     },
     "metadata": {
      "needs_background": "light"
     },
     "output_type": "display_data"
    }
   ],
   "source": [
    "# Boxplot for TOTAL_VALUE\n",
    "sns.boxplot(y = westroxbury_df['TOTAL_VALUE']);"
   ]
  },
  {
   "cell_type": "markdown",
   "metadata": {},
   "source": [
    "#### The median of Total assessed value for property, in thousands of USD(TOTAL_VALUE) is 380"
   ]
  },
  {
   "cell_type": "code",
   "execution_count": 23,
   "metadata": {},
   "outputs": [
    {
     "data": {
      "text/plain": [
       "1    4346\n",
       "0    1456\n",
       "Name: REMODEL_None, dtype: int64"
      ]
     },
     "execution_count": 23,
     "metadata": {},
     "output_type": "execute_result"
    }
   ],
   "source": [
    "# Count the values in REMODEL_None categorical variable\n",
    "westroxbury_df['REMODEL_None'].value_counts()"
   ]
  },
  {
   "cell_type": "code",
   "execution_count": 24,
   "metadata": {},
   "outputs": [
    {
     "data": {
      "image/png": "[encoded data removed]",
      "text/plain": [
       "<Figure size 432x288 with 1 Axes>"
      ]
     },
     "metadata": {
      "needs_background": "light"
     },
     "output_type": "display_data"
    }
   ],
   "source": [
    "# Countplot for REMODEL_None variable\n",
    "sns.countplot(westroxbury_df['REMODEL_None']);"
   ]
  },
  {
   "cell_type": "markdown",
   "metadata": {},
   "source": [
    "#### The number of house was not remodeled(REMODEL_None) is higher than number of houses remodeled"
   ]
  },
  {
   "cell_type": "code",
   "execution_count": 25,
   "metadata": {},
   "outputs": [
    {
     "data": {
      "text/plain": [
       "0    4927\n",
       "1     875\n",
       "Name: REMODEL_Recent, dtype: int64"
      ]
     },
     "execution_count": 25,
     "metadata": {},
     "output_type": "execute_result"
    }
   ],
   "source": [
    "# Count the values in REMODEL_Recent categorical variable\n",
    "westroxbury_df['REMODEL_Recent'].value_counts()"
   ]
  },
  {
   "cell_type": "code",
   "execution_count": 26,
   "metadata": {},
   "outputs": [
    {
     "data": {
      "image/png": "[encoded data removed]",
      "text/plain": [
       "<Figure size 432x288 with 1 Axes>"
      ]
     },
     "metadata": {
      "needs_background": "light"
     },
     "output_type": "display_data"
    }
   ],
   "source": [
    "# Countplot for REMODEL_Recent variable\n",
    "sns.countplot(westroxbury_df['REMODEL_Recent']);"
   ]
  },
  {
   "cell_type": "markdown",
   "metadata": {},
   "source": [
    "#### The number of house was recently remodeled(REMODEL_Recent) is lesser than number of houses that were not recently remodeled."
   ]
  },
  {
   "cell_type": "code",
   "execution_count": 27,
   "metadata": {},
   "outputs": [
    {
     "data": {
      "text/plain": [
       "1    5713\n",
       "2      89\n",
       "Name: KITCHEN, dtype: int64"
      ]
     },
     "execution_count": 27,
     "metadata": {},
     "output_type": "execute_result"
    }
   ],
   "source": [
    "# Count the values in KITCHEN categorical variable\n",
    "westroxbury_df['KITCHEN'].value_counts()"
   ]
  },
  {
   "cell_type": "code",
   "execution_count": 28,
   "metadata": {},
   "outputs": [
    {
     "data": {
      "image/png": "[encoded data removed]",
      "text/plain": [
       "<Figure size 432x288 with 1 Axes>"
      ]
     },
     "metadata": {
      "needs_background": "light"
     },
     "output_type": "display_data"
    }
   ],
   "source": [
    "# Countplot for KITCHEN variable\n",
    "sns.countplot(westroxbury_df['KITCHEN']);"
   ]
  },
  {
   "cell_type": "markdown",
   "metadata": {},
   "source": [
    "#### The number of property with 1 Kitchens(KITCHEN) is higher than the number of property with 2 Kitchens(KITCHEN)"
   ]
  },
  {
   "cell_type": "markdown",
   "metadata": {},
   "source": [
    "## Bivariate Analysis"
   ]
  },
  {
   "cell_type": "markdown",
   "metadata": {},
   "source": [
    "#### LOT_SQFT vs TOTAL_VALUE"
   ]
  },
  {
   "cell_type": "code",
   "execution_count": 29,
   "metadata": {},
   "outputs": [
    {
     "data": {
      "image/png": "[encoded data removed]",
      "text/plain": [
       "<Figure size 360x360 with 1 Axes>"
      ]
     },
     "metadata": {
      "needs_background": "light"
     },
     "output_type": "display_data"
    }
   ],
   "source": [
    "# lmplot of LOT_SQFT vs TOTAL_VALUE\n",
    "sns.lmplot(x = 'LOT_SQFT',\n",
    "           y = 'TOTAL_VALUE',\n",
    "           data = westroxbury_df);"
   ]
  },
  {
   "cell_type": "markdown",
   "metadata": {},
   "source": [
    "#### As the proportion of Total lot size of parcel in square feet(LOT_SQFT) increases, the Total assessed value for property, in thousands of USD(TOTAL_VALUE) also increases"
   ]
  },
  {
   "cell_type": "markdown",
   "metadata": {},
   "source": [
    "#### GROSS_AREA vs TOTAL_VALUE"
   ]
  },
  {
   "cell_type": "code",
   "execution_count": 30,
   "metadata": {},
   "outputs": [
    {
     "data": {
      "image/png": "[encoded data removed]",
      "text/plain": [
       "<Figure size 360x360 with 1 Axes>"
      ]
     },
     "metadata": {
      "needs_background": "light"
     },
     "output_type": "display_data"
    }
   ],
   "source": [
    "# lmplot of GROSS_AREA vs TOTAL_VALUE\n",
    "sns.lmplot(x = 'GROSS_AREA',\n",
    "           y = 'TOTAL_VALUE',\n",
    "           data = westroxbury_df);"
   ]
  },
  {
   "cell_type": "markdown",
   "metadata": {},
   "source": [
    "#### As the proportion of Gross floor area(GROSS_AREA) increases, the Total assessed value for property, in thousands of USD(TOTAL_VALUE) also increases"
   ]
  },
  {
   "cell_type": "markdown",
   "metadata": {},
   "source": [
    "#### LIVING_AREA vs TOTAL_VALUE"
   ]
  },
  {
   "cell_type": "code",
   "execution_count": 31,
   "metadata": {},
   "outputs": [
    {
     "data": {
      "image/png": "[encoded data removed]",
      "text/plain": [
       "<Figure size 360x360 with 1 Axes>"
      ]
     },
     "metadata": {
      "needs_background": "light"
     },
     "output_type": "display_data"
    }
   ],
   "source": [
    "# lmplot of LIVING_AREA vs TOTAL_VALUE\n",
    "sns.lmplot(x = 'LIVING_AREA',\n",
    "           y = 'TOTAL_VALUE',\n",
    "           data = westroxbury_df);"
   ]
  },
  {
   "cell_type": "markdown",
   "metadata": {},
   "source": [
    "#### As the proportion of Total living area for residential properties (ft2)(LIVING_AREA) increases, the Total assessed value for property, in thousands of USD(TOTAL_VALUE) also increases¶"
   ]
  },
  {
   "cell_type": "markdown",
   "metadata": {},
   "source": [
    "#### Building Age vs TOTAL_VALUE"
   ]
  },
  {
   "cell_type": "code",
   "execution_count": 32,
   "metadata": {},
   "outputs": [
    {
     "data": {
      "image/png": "[encoded data removed]",
      "text/plain": [
       "<Figure size 360x360 with 1 Axes>"
      ]
     },
     "metadata": {
      "needs_background": "light"
     },
     "output_type": "display_data"
    }
   ],
   "source": [
    "# lmplot of building age vs TOTAL_VALUE\n",
    "sns.lmplot(x = 'building_age',\n",
    "           y = 'TOTAL_VALUE',\n",
    "           data = westroxbury_df);"
   ]
  },
  {
   "cell_type": "markdown",
   "metadata": {},
   "source": [
    "#### There seems to be no relationship between building age and the total assessed value of the property"
   ]
  },
  {
   "cell_type": "markdown",
   "metadata": {},
   "source": [
    "#### FLOORS vs TOTAL_VALUE"
   ]
  },
  {
   "cell_type": "code",
   "execution_count": 33,
   "metadata": {},
   "outputs": [
    {
     "data": {
      "image/png": "[encoded data removed]",
      "text/plain": [
       "<Figure size 432x288 with 1 Axes>"
      ]
     },
     "metadata": {
      "needs_background": "light"
     },
     "output_type": "display_data"
    }
   ],
   "source": [
    "# Paired boxplot of FLOORS vs TOTAL_VALUE\n",
    "sns.boxplot(x = 'FLOORS', \n",
    "            y = 'TOTAL_VALUE',\n",
    "            data = westroxbury_df);"
   ]
  },
  {
   "cell_type": "markdown",
   "metadata": {},
   "source": [
    "#### The Number of floors(FLOORS) Increases, the median of Total assessed value for property, in thousands of USD(TOTAL_VALUE) also increases and the median stops increasing after the 2.5 floors"
   ]
  },
  {
   "cell_type": "markdown",
   "metadata": {},
   "source": [
    "#### ROOMS vs TOTAL_VALUE"
   ]
  },
  {
   "cell_type": "code",
   "execution_count": 34,
   "metadata": {},
   "outputs": [
    {
     "data": {
      "image/png": "[encoded data removed]",
      "text/plain": [
       "<Figure size 432x288 with 1 Axes>"
      ]
     },
     "metadata": {
      "needs_background": "light"
     },
     "output_type": "display_data"
    }
   ],
   "source": [
    "# Paired boxplot of ROOMS vs TOTAL_VALUE\n",
    "sns.boxplot(x = 'ROOMS', \n",
    "            y = 'TOTAL_VALUE',\n",
    "            data = westroxbury_df);"
   ]
  },
  {
   "cell_type": "markdown",
   "metadata": {},
   "source": [
    "#### The Number of rooms(ROOMS) Increases, the median of Total assessed value for property, in thousands of USD(TOTAL_VALUE) also increases upto 12 rooms and there is slight decrease for the 13 and 14 rooms"
   ]
  },
  {
   "cell_type": "markdown",
   "metadata": {},
   "source": [
    "#### BEDROOMS vs TOTAL_VALUE"
   ]
  },
  {
   "cell_type": "code",
   "execution_count": 35,
   "metadata": {},
   "outputs": [
    {
     "data": {
      "image/png": "[encoded data removed]",
      "text/plain": [
       "<Figure size 432x288 with 1 Axes>"
      ]
     },
     "metadata": {
      "needs_background": "light"
     },
     "output_type": "display_data"
    }
   ],
   "source": [
    "# Paired boxplot of BEDROOMS vs TOTAL_VALUE\n",
    "sns.boxplot(x = 'BEDROOMS', \n",
    "            y = 'TOTAL_VALUE',\n",
    "            data = westroxbury_df);"
   ]
  },
  {
   "cell_type": "markdown",
   "metadata": {},
   "source": [
    "#### The Number of bedrooms(BEDROOMS) increases, the median of Total assessed value for property, in thousands of USD(TOTAL_VALUE) also increases"
   ]
  },
  {
   "cell_type": "markdown",
   "metadata": {},
   "source": [
    "#### FULL_BATH vs TOTAL_VALUE"
   ]
  },
  {
   "cell_type": "code",
   "execution_count": 36,
   "metadata": {},
   "outputs": [
    {
     "data": {
      "image/png": "[encoded data removed]",
      "text/plain": [
       "<Figure size 432x288 with 1 Axes>"
      ]
     },
     "metadata": {
      "needs_background": "light"
     },
     "output_type": "display_data"
    }
   ],
   "source": [
    "# Paired boxplot of FULL_BATH vs TOTAL_VALUE\n",
    "sns.boxplot(x = 'FULL_BATH', \n",
    "            y = 'TOTAL_VALUE',\n",
    "            data = westroxbury_df);"
   ]
  },
  {
   "cell_type": "markdown",
   "metadata": {},
   "source": [
    "#### The Number of full bath(FULL_BATH) increases, the median of Total assessed value for property, in thousands of USD(TOTAL_VALUE) also increases"
   ]
  },
  {
   "cell_type": "markdown",
   "metadata": {},
   "source": [
    "#### HALF_BATH vs TOTAL_VALUE"
   ]
  },
  {
   "cell_type": "code",
   "execution_count": 37,
   "metadata": {},
   "outputs": [
    {
     "data": {
      "image/png": "[encoded data removed]",
      "text/plain": [
       "<Figure size 432x288 with 1 Axes>"
      ]
     },
     "metadata": {
      "needs_background": "light"
     },
     "output_type": "display_data"
    }
   ],
   "source": [
    "# Paired boxplot of HALF_BATH vs TOTAL_VALUE\n",
    "sns.boxplot(x = 'HALF_BATH', \n",
    "            y = 'TOTAL_VALUE',\n",
    "            data = westroxbury_df);"
   ]
  },
  {
   "cell_type": "markdown",
   "metadata": {},
   "source": [
    "#### The Number of half bath(HALF_BATH) increases, the median of Total assessed value for property, in thousands of USD(TOTAL_VALUE) also increases"
   ]
  },
  {
   "cell_type": "markdown",
   "metadata": {},
   "source": [
    "#### KITCHEN vs HOME_VALUE"
   ]
  },
  {
   "cell_type": "code",
   "execution_count": 38,
   "metadata": {},
   "outputs": [
    {
     "data": {
      "image/png": "[encoded data removed]",
      "text/plain": [
       "<Figure size 432x288 with 1 Axes>"
      ]
     },
     "metadata": {
      "needs_background": "light"
     },
     "output_type": "display_data"
    }
   ],
   "source": [
    "# Paired boxplot of KITCHEN vs TOTAL_VALUE\n",
    "sns.boxplot(x = 'KITCHEN', \n",
    "            y = 'TOTAL_VALUE',\n",
    "            data = westroxbury_df);"
   ]
  },
  {
   "cell_type": "markdown",
   "metadata": {},
   "source": [
    "#### The Number of kitchens(KITCHENS) increases, the median of Total assessed value for property, in thousands of USD(TOTAL_VALUE) is almost the same there is no much difference"
   ]
  },
  {
   "cell_type": "markdown",
   "metadata": {},
   "source": [
    "#### REMODEL_None vs TOTAL_VALUE"
   ]
  },
  {
   "cell_type": "code",
   "execution_count": 39,
   "metadata": {},
   "outputs": [
    {
     "data": {
      "image/png": "[encoded data removed]",
      "text/plain": [
       "<Figure size 432x288 with 1 Axes>"
      ]
     },
     "metadata": {
      "needs_background": "light"
     },
     "output_type": "display_data"
    }
   ],
   "source": [
    "# Paired boxplot of REMODEL_None vs TOTAL_VALUE\n",
    "sns.boxplot(x = 'REMODEL_None', \n",
    "            y = 'TOTAL_VALUE',\n",
    "            data = westroxbury_df);"
   ]
  },
  {
   "cell_type": "markdown",
   "metadata": {},
   "source": [
    "#### The median of houses was not remodeled (REMODEL_None) is slightly lesser the median of houses was remodeled "
   ]
  },
  {
   "cell_type": "markdown",
   "metadata": {},
   "source": [
    "#### REMODEL_Recent vs TOTAL_VALUE"
   ]
  },
  {
   "cell_type": "code",
   "execution_count": 40,
   "metadata": {},
   "outputs": [
    {
     "data": {
      "image/png": "[encoded data removed]",
      "text/plain": [
       "<Figure size 432x288 with 1 Axes>"
      ]
     },
     "metadata": {
      "needs_background": "light"
     },
     "output_type": "display_data"
    }
   ],
   "source": [
    "# Paired boxplot of REMODEL_Recent vs TOTAL_VALUE\n",
    "sns.boxplot(x = 'REMODEL_Recent', \n",
    "            y = 'TOTAL_VALUE',\n",
    "            data = westroxbury_df);"
   ]
  },
  {
   "cell_type": "markdown",
   "metadata": {},
   "source": [
    "#### The median of houses was recently remodeled (REMODEL_Recent) is slightly higher the median of houses was not recently remodeled "
   ]
  },
  {
   "cell_type": "markdown",
   "metadata": {},
   "source": [
    "### c.\tPrint the correlation matrix for independent variables."
   ]
  },
  {
   "cell_type": "code",
   "execution_count": 41,
   "metadata": {},
   "outputs": [
    {
     "name": "stderr",
     "output_type": "stream",
     "text": [
      "C:\\Users\\user\\Anaconda3\\lib\\site-packages\\pandas\\core\\frame.py:4102: SettingWithCopyWarning: \n",
      "A value is trying to be set on a copy of a slice from a DataFrame\n",
      "\n",
      "See the caveats in the documentation: http://pandas.pydata.org/pandas-docs/stable/user_guide/indexing.html#returning-a-view-versus-a-copy\n",
      "  errors=errors,\n"
     ]
    }
   ],
   "source": [
    "## Collect numerical variables in a dataframe\n",
    "numerics = ['int16', 'int32', 'int64', 'float16', 'float32', 'float64']\n",
    "\n",
    "numerical_df = westroxbury_df.select_dtypes(include=numerics)\n",
    "\n",
    "#Remove Y variable\n",
    "numerical_df.drop('TOTAL_VALUE', axis=1, inplace=True)"
   ]
  },
  {
   "cell_type": "code",
   "execution_count": 42,
   "metadata": {},
   "outputs": [
    {
     "data": {
      "text/html": [
       "<div>\n",
       "<style scoped>\n",
       "    .dataframe tbody tr th:only-of-type {\n",
       "        vertical-align: middle;\n",
       "    }\n",
       "\n",
       "    .dataframe tbody tr th {\n",
       "        vertical-align: top;\n",
       "    }\n",
       "\n",
       "    .dataframe thead th {\n",
       "        text-align: right;\n",
       "    }\n",
       "</style>\n",
       "<table border=\"1\" class=\"dataframe\">\n",
       "  <thead>\n",
       "    <tr style=\"text-align: right;\">\n",
       "      <th></th>\n",
       "      <th>LOT_SQFT</th>\n",
       "      <th>GROSS_AREA</th>\n",
       "      <th>LIVING_AREA</th>\n",
       "      <th>building_age</th>\n",
       "    </tr>\n",
       "  </thead>\n",
       "  <tbody>\n",
       "    <tr>\n",
       "      <td>LOT_SQFT</td>\n",
       "      <td>1.000000</td>\n",
       "      <td>0.448880</td>\n",
       "      <td>0.426045</td>\n",
       "      <td>0.068908</td>\n",
       "    </tr>\n",
       "    <tr>\n",
       "      <td>GROSS_AREA</td>\n",
       "      <td>0.448880</td>\n",
       "      <td>1.000000</td>\n",
       "      <td>0.899775</td>\n",
       "      <td>0.167928</td>\n",
       "    </tr>\n",
       "    <tr>\n",
       "      <td>LIVING_AREA</td>\n",
       "      <td>0.426045</td>\n",
       "      <td>0.899775</td>\n",
       "      <td>1.000000</td>\n",
       "      <td>0.131274</td>\n",
       "    </tr>\n",
       "    <tr>\n",
       "      <td>building_age</td>\n",
       "      <td>0.068908</td>\n",
       "      <td>0.167928</td>\n",
       "      <td>0.131274</td>\n",
       "      <td>1.000000</td>\n",
       "    </tr>\n",
       "  </tbody>\n",
       "</table>\n",
       "</div>"
      ],
      "text/plain": [
       "              LOT_SQFT  GROSS_AREA  LIVING_AREA  building_age\n",
       "LOT_SQFT      1.000000    0.448880     0.426045      0.068908\n",
       "GROSS_AREA    0.448880    1.000000     0.899775      0.167928\n",
       "LIVING_AREA   0.426045    0.899775     1.000000      0.131274\n",
       "building_age  0.068908    0.167928     0.131274      1.000000"
      ]
     },
     "execution_count": 42,
     "metadata": {},
     "output_type": "execute_result"
    }
   ],
   "source": [
    "# Check correlation among numerical independent variables using correlation matrix\n",
    "cor = numerical_df.corr()\n",
    "cor"
   ]
  },
  {
   "cell_type": "code",
   "execution_count": 43,
   "metadata": {},
   "outputs": [
    {
     "data": {
      "image/png": "[encoded data removed]",
      "text/plain": [
       "<Figure size 576x576 with 2 Axes>"
      ]
     },
     "metadata": {
      "needs_background": "light"
     },
     "output_type": "display_data"
    }
   ],
   "source": [
    "# View heat map of the correlation matrix\n",
    "fig, ax = plt.subplots(figsize=(8,8))\n",
    "sns.heatmap(cor, vmin = -1, vmax = 1, cmap = 'plasma', annot = True);"
   ]
  },
  {
   "cell_type": "code",
   "execution_count": 44,
   "metadata": {},
   "outputs": [
    {
     "data": {
      "text/plain": [
       "LIVING_AREA   GROSS_AREA      0.899775\n",
       "GROSS_AREA    LIVING_AREA     0.899775\n",
       "              LOT_SQFT        0.448880\n",
       "LOT_SQFT      GROSS_AREA      0.448880\n",
       "LIVING_AREA   LOT_SQFT        0.426045\n",
       "LOT_SQFT      LIVING_AREA     0.426045\n",
       "building_age  GROSS_AREA      0.167928\n",
       "GROSS_AREA    building_age    0.167928\n",
       "building_age  LIVING_AREA     0.131274\n",
       "LIVING_AREA   building_age    0.131274\n",
       "dtype: float64"
      ]
     },
     "execution_count": 44,
     "metadata": {},
     "output_type": "execute_result"
    }
   ],
   "source": [
    "#Highly correlated X variables\n",
    "c = cor.abs()\n",
    "\n",
    "# Unstack the correlation matrix\n",
    "s = c.unstack()\n",
    "\n",
    "#Filter to exclude values of 1\n",
    "s = s[s != 1]\n",
    "\n",
    "# Sort descending to find the highly correlated variables\n",
    "so = s.sort_values(kind=\"quicksort\", ascending=False)[:10]\n",
    "so"
   ]
  },
  {
   "cell_type": "code",
   "execution_count": 45,
   "metadata": {},
   "outputs": [],
   "source": [
    "# Collect independent variables as X and dependent variable as Y\n",
    "X  = westroxbury_df[['LOT_SQFT', 'building_age', 'GROSS_AREA', 'LIVING_AREA', 'FLOORS', 'ROOMS',\n",
    "       'BEDROOMS', 'FULL_BATH', 'HALF_BATH', 'KITCHEN', 'FIREPLACE',\n",
    "       'REMODEL_None', 'REMODEL_Recent']]\n",
    "y  = westroxbury_df['TOTAL_VALUE']"
   ]
  },
  {
   "cell_type": "code",
   "execution_count": 46,
   "metadata": {},
   "outputs": [],
   "source": [
    "# Creating dummies for the categorical variables\n",
    "X = pd.get_dummies(X,drop_first = True)"
   ]
  },
  {
   "cell_type": "code",
   "execution_count": 47,
   "metadata": {},
   "outputs": [
    {
     "name": "stderr",
     "output_type": "stream",
     "text": [
      "C:\\Users\\user\\Anaconda3\\lib\\site-packages\\numpy\\core\\fromnumeric.py:2389: FutureWarning: Method .ptp is deprecated and will be removed in a future version. Use numpy.ptp instead.\n",
      "  return ptp(axis=axis, out=out, **kwargs)\n"
     ]
    }
   ],
   "source": [
    "# Add an intercept to X for our model\n",
    "X  = sm.add_constant(X)"
   ]
  },
  {
   "cell_type": "code",
   "execution_count": 48,
   "metadata": {},
   "outputs": [],
   "source": [
    "# Create the linear regression model based on OLS method\n",
    "valuemodel = sm.OLS(y, X).fit() ## OLS(output, input)"
   ]
  },
  {
   "cell_type": "code",
   "execution_count": 49,
   "metadata": {},
   "outputs": [
    {
     "data": {
      "text/html": [
       "<table class=\"simpletable\">\n",
       "<caption>OLS Regression Results</caption>\n",
       "<tr>\n",
       "  <th>Dep. Variable:</th>       <td>TOTAL_VALUE</td>   <th>  R-squared:         </th> <td>   0.824</td> \n",
       "</tr>\n",
       "<tr>\n",
       "  <th>Model:</th>                   <td>OLS</td>       <th>  Adj. R-squared:    </th> <td>   0.823</td> \n",
       "</tr>\n",
       "<tr>\n",
       "  <th>Method:</th>             <td>Least Squares</td>  <th>  F-statistic:       </th> <td>   657.3</td> \n",
       "</tr>\n",
       "<tr>\n",
       "  <th>Date:</th>             <td>Thu, 25 Mar 2021</td> <th>  Prob (F-statistic):</th>  <td>  0.00</td>  \n",
       "</tr>\n",
       "<tr>\n",
       "  <th>Time:</th>                 <td>12:21:21</td>     <th>  Log-Likelihood:    </th> <td> -29865.</td> \n",
       "</tr>\n",
       "<tr>\n",
       "  <th>No. Observations:</th>      <td>  5802</td>      <th>  AIC:               </th> <td>5.981e+04</td>\n",
       "</tr>\n",
       "<tr>\n",
       "  <th>Df Residuals:</th>          <td>  5760</td>      <th>  BIC:               </th> <td>6.009e+04</td>\n",
       "</tr>\n",
       "<tr>\n",
       "  <th>Df Model:</th>              <td>    41</td>      <th>                     </th>     <td> </td>    \n",
       "</tr>\n",
       "<tr>\n",
       "  <th>Covariance Type:</th>      <td>nonrobust</td>    <th>                     </th>     <td> </td>    \n",
       "</tr>\n",
       "</table>\n",
       "<table class=\"simpletable\">\n",
       "<tr>\n",
       "          <td></td>            <th>coef</th>     <th>std err</th>      <th>t</th>      <th>P>|t|</th>  <th>[0.025</th>    <th>0.975]</th>  \n",
       "</tr>\n",
       "<tr>\n",
       "  <th>const</th>            <td>   94.7820</td> <td>   24.436</td> <td>    3.879</td> <td> 0.000</td> <td>   46.879</td> <td>  142.685</td>\n",
       "</tr>\n",
       "<tr>\n",
       "  <th>LOT_SQFT</th>         <td>    0.0086</td> <td>    0.000</td> <td>   36.638</td> <td> 0.000</td> <td>    0.008</td> <td>    0.009</td>\n",
       "</tr>\n",
       "<tr>\n",
       "  <th>building_age</th>     <td>   -0.0554</td> <td>    0.017</td> <td>   -3.311</td> <td> 0.001</td> <td>   -0.088</td> <td>   -0.023</td>\n",
       "</tr>\n",
       "<tr>\n",
       "  <th>GROSS_AREA</th>       <td>    0.0334</td> <td>    0.002</td> <td>   20.581</td> <td> 0.000</td> <td>    0.030</td> <td>    0.037</td>\n",
       "</tr>\n",
       "<tr>\n",
       "  <th>LIVING_AREA</th>      <td>    0.0486</td> <td>    0.003</td> <td>   16.156</td> <td> 0.000</td> <td>    0.043</td> <td>    0.055</td>\n",
       "</tr>\n",
       "<tr>\n",
       "  <th>FLOORS_1.5</th>       <td>   -2.7105</td> <td>    1.976</td> <td>   -1.371</td> <td> 0.170</td> <td>   -6.585</td> <td>    1.164</td>\n",
       "</tr>\n",
       "<tr>\n",
       "  <th>FLOORS_2.0</th>       <td>   40.4676</td> <td>    1.750</td> <td>   23.123</td> <td> 0.000</td> <td>   37.037</td> <td>   43.898</td>\n",
       "</tr>\n",
       "<tr>\n",
       "  <th>FLOORS_2.5</th>       <td>   44.2142</td> <td>    4.755</td> <td>    9.298</td> <td> 0.000</td> <td>   34.892</td> <td>   53.536</td>\n",
       "</tr>\n",
       "<tr>\n",
       "  <th>FLOORS_3.0</th>       <td>   21.3836</td> <td>   22.278</td> <td>    0.960</td> <td> 0.337</td> <td>  -22.289</td> <td>   65.056</td>\n",
       "</tr>\n",
       "<tr>\n",
       "  <th>ROOMS_4</th>          <td>   11.2982</td> <td>   24.920</td> <td>    0.453</td> <td> 0.650</td> <td>  -37.555</td> <td>   60.151</td>\n",
       "</tr>\n",
       "<tr>\n",
       "  <th>ROOMS_5</th>          <td>    5.6252</td> <td>   24.799</td> <td>    0.227</td> <td> 0.821</td> <td>  -42.990</td> <td>   54.241</td>\n",
       "</tr>\n",
       "<tr>\n",
       "  <th>ROOMS_6</th>          <td>   -0.7245</td> <td>   24.824</td> <td>   -0.029</td> <td> 0.977</td> <td>  -49.389</td> <td>   47.940</td>\n",
       "</tr>\n",
       "<tr>\n",
       "  <th>ROOMS_7</th>          <td>    2.3804</td> <td>   24.849</td> <td>    0.096</td> <td> 0.924</td> <td>  -46.333</td> <td>   51.094</td>\n",
       "</tr>\n",
       "<tr>\n",
       "  <th>ROOMS_8</th>          <td>    5.0294</td> <td>   24.886</td> <td>    0.202</td> <td> 0.840</td> <td>  -43.757</td> <td>   53.816</td>\n",
       "</tr>\n",
       "<tr>\n",
       "  <th>ROOMS_9</th>          <td>    6.0028</td> <td>   24.975</td> <td>    0.240</td> <td> 0.810</td> <td>  -42.958</td> <td>   54.963</td>\n",
       "</tr>\n",
       "<tr>\n",
       "  <th>ROOMS_10</th>         <td>    0.8774</td> <td>   25.127</td> <td>    0.035</td> <td> 0.972</td> <td>  -48.380</td> <td>   50.135</td>\n",
       "</tr>\n",
       "<tr>\n",
       "  <th>ROOMS_11</th>         <td>   19.7256</td> <td>   25.536</td> <td>    0.772</td> <td> 0.440</td> <td>  -30.334</td> <td>   69.785</td>\n",
       "</tr>\n",
       "<tr>\n",
       "  <th>ROOMS_12</th>         <td>   -6.9815</td> <td>   25.895</td> <td>   -0.270</td> <td> 0.787</td> <td>  -57.746</td> <td>   43.783</td>\n",
       "</tr>\n",
       "<tr>\n",
       "  <th>ROOMS_13</th>         <td>   -3.8767</td> <td>   28.698</td> <td>   -0.135</td> <td> 0.893</td> <td>  -60.136</td> <td>   52.383</td>\n",
       "</tr>\n",
       "<tr>\n",
       "  <th>ROOMS_14</th>         <td>   -3.3578</td> <td>   31.873</td> <td>   -0.105</td> <td> 0.916</td> <td>  -65.841</td> <td>   59.125</td>\n",
       "</tr>\n",
       "<tr>\n",
       "  <th>BEDROOMS_2</th>       <td>   12.8158</td> <td>    8.320</td> <td>    1.540</td> <td> 0.124</td> <td>   -3.495</td> <td>   29.126</td>\n",
       "</tr>\n",
       "<tr>\n",
       "  <th>BEDROOMS_3</th>       <td>   10.8029</td> <td>    8.417</td> <td>    1.284</td> <td> 0.199</td> <td>   -5.697</td> <td>   27.303</td>\n",
       "</tr>\n",
       "<tr>\n",
       "  <th>BEDROOMS_4</th>       <td>   10.1206</td> <td>    8.539</td> <td>    1.185</td> <td> 0.236</td> <td>   -6.619</td> <td>   26.860</td>\n",
       "</tr>\n",
       "<tr>\n",
       "  <th>BEDROOMS_5</th>       <td>    2.2736</td> <td>    8.997</td> <td>    0.253</td> <td> 0.800</td> <td>  -15.363</td> <td>   19.910</td>\n",
       "</tr>\n",
       "<tr>\n",
       "  <th>BEDROOMS_6</th>       <td>   10.0324</td> <td>    9.865</td> <td>    1.017</td> <td> 0.309</td> <td>   -9.307</td> <td>   29.372</td>\n",
       "</tr>\n",
       "<tr>\n",
       "  <th>BEDROOMS_7</th>       <td>   13.0231</td> <td>   14.457</td> <td>    0.901</td> <td> 0.368</td> <td>  -15.318</td> <td>   41.364</td>\n",
       "</tr>\n",
       "<tr>\n",
       "  <th>BEDROOMS_8</th>       <td>  -16.1230</td> <td>   28.056</td> <td>   -0.575</td> <td> 0.566</td> <td>  -71.124</td> <td>   38.878</td>\n",
       "</tr>\n",
       "<tr>\n",
       "  <th>BEDROOMS_9</th>       <td>   71.0378</td> <td>   45.540</td> <td>    1.560</td> <td> 0.119</td> <td>  -18.238</td> <td>  160.313</td>\n",
       "</tr>\n",
       "<tr>\n",
       "  <th>FULL_BATH_2</th>      <td>   20.0956</td> <td>    1.528</td> <td>   13.151</td> <td> 0.000</td> <td>   17.100</td> <td>   23.091</td>\n",
       "</tr>\n",
       "<tr>\n",
       "  <th>FULL_BATH_3</th>      <td>   54.6993</td> <td>    3.997</td> <td>   13.686</td> <td> 0.000</td> <td>   46.864</td> <td>   62.534</td>\n",
       "</tr>\n",
       "<tr>\n",
       "  <th>FULL_BATH_4</th>      <td>  110.5810</td> <td>   12.107</td> <td>    9.133</td> <td> 0.000</td> <td>   86.846</td> <td>  134.316</td>\n",
       "</tr>\n",
       "<tr>\n",
       "  <th>FULL_BATH_5</th>      <td>  131.0120</td> <td>   42.514</td> <td>    3.082</td> <td> 0.002</td> <td>   47.669</td> <td>  214.355</td>\n",
       "</tr>\n",
       "<tr>\n",
       "  <th>HALF_BATH_1</th>      <td>   18.6293</td> <td>    1.307</td> <td>   14.249</td> <td> 0.000</td> <td>   16.066</td> <td>   21.192</td>\n",
       "</tr>\n",
       "<tr>\n",
       "  <th>HALF_BATH_2</th>      <td>   40.9449</td> <td>    3.861</td> <td>   10.604</td> <td> 0.000</td> <td>   33.375</td> <td>   48.514</td>\n",
       "</tr>\n",
       "<tr>\n",
       "  <th>HALF_BATH_3</th>      <td>   36.7378</td> <td>   42.138</td> <td>    0.872</td> <td> 0.383</td> <td>  -45.868</td> <td>  119.344</td>\n",
       "</tr>\n",
       "<tr>\n",
       "  <th>KITCHEN_2</th>        <td>  -15.5804</td> <td>    4.741</td> <td>   -3.286</td> <td> 0.001</td> <td>  -24.875</td> <td>   -6.286</td>\n",
       "</tr>\n",
       "<tr>\n",
       "  <th>FIREPLACE_1</th>      <td>   22.6267</td> <td>    1.238</td> <td>   18.277</td> <td> 0.000</td> <td>   20.200</td> <td>   25.054</td>\n",
       "</tr>\n",
       "<tr>\n",
       "  <th>FIREPLACE_2</th>      <td>   30.4371</td> <td>    2.883</td> <td>   10.559</td> <td> 0.000</td> <td>   24.786</td> <td>   36.088</td>\n",
       "</tr>\n",
       "<tr>\n",
       "  <th>FIREPLACE_3</th>      <td>   31.0546</td> <td>    9.149</td> <td>    3.394</td> <td> 0.001</td> <td>   13.119</td> <td>   48.990</td>\n",
       "</tr>\n",
       "<tr>\n",
       "  <th>FIREPLACE_4</th>      <td>   13.7576</td> <td>   21.294</td> <td>    0.646</td> <td> 0.518</td> <td>  -27.987</td> <td>   55.502</td>\n",
       "</tr>\n",
       "<tr>\n",
       "  <th>REMODEL_None_1</th>   <td>   -5.1977</td> <td>    1.865</td> <td>   -2.787</td> <td> 0.005</td> <td>   -8.854</td> <td>   -1.542</td>\n",
       "</tr>\n",
       "<tr>\n",
       "  <th>REMODEL_Recent_1</th> <td>   20.3281</td> <td>    2.260</td> <td>    8.995</td> <td> 0.000</td> <td>   15.898</td> <td>   24.758</td>\n",
       "</tr>\n",
       "</table>\n",
       "<table class=\"simpletable\">\n",
       "<tr>\n",
       "  <th>Omnibus:</th>       <td>280.598</td> <th>  Durbin-Watson:     </th> <td>   1.573</td> \n",
       "</tr>\n",
       "<tr>\n",
       "  <th>Prob(Omnibus):</th> <td> 0.000</td>  <th>  Jarque-Bera (JB):  </th> <td>1014.326</td> \n",
       "</tr>\n",
       "<tr>\n",
       "  <th>Skew:</th>          <td> 0.047</td>  <th>  Prob(JB):          </th> <td>5.52e-221</td>\n",
       "</tr>\n",
       "<tr>\n",
       "  <th>Kurtosis:</th>      <td> 5.046</td>  <th>  Cond. No.          </th> <td>1.19e+06</td> \n",
       "</tr>\n",
       "</table><br/><br/>Warnings:<br/>[1] Standard Errors assume that the covariance matrix of the errors is correctly specified.<br/>[2] The condition number is large, 1.19e+06. This might indicate that there are<br/>strong multicollinearity or other numerical problems."
      ],
      "text/plain": [
       "<class 'statsmodels.iolib.summary.Summary'>\n",
       "\"\"\"\n",
       "                            OLS Regression Results                            \n",
       "==============================================================================\n",
       "Dep. Variable:            TOTAL_VALUE   R-squared:                       0.824\n",
       "Model:                            OLS   Adj. R-squared:                  0.823\n",
       "Method:                 Least Squares   F-statistic:                     657.3\n",
       "Date:                Thu, 25 Mar 2021   Prob (F-statistic):               0.00\n",
       "Time:                        12:21:21   Log-Likelihood:                -29865.\n",
       "No. Observations:                5802   AIC:                         5.981e+04\n",
       "Df Residuals:                    5760   BIC:                         6.009e+04\n",
       "Df Model:                          41                                         \n",
       "Covariance Type:            nonrobust                                         \n",
       "====================================================================================\n",
       "                       coef    std err          t      P>|t|      [0.025      0.975]\n",
       "------------------------------------------------------------------------------------\n",
       "const               94.7820     24.436      3.879      0.000      46.879     142.685\n",
       "LOT_SQFT             0.0086      0.000     36.638      0.000       0.008       0.009\n",
       "building_age        -0.0554      0.017     -3.311      0.001      -0.088      -0.023\n",
       "GROSS_AREA           0.0334      0.002     20.581      0.000       0.030       0.037\n",
       "LIVING_AREA          0.0486      0.003     16.156      0.000       0.043       0.055\n",
       "FLOORS_1.5          -2.7105      1.976     -1.371      0.170      -6.585       1.164\n",
       "FLOORS_2.0          40.4676      1.750     23.123      0.000      37.037      43.898\n",
       "FLOORS_2.5          44.2142      4.755      9.298      0.000      34.892      53.536\n",
       "FLOORS_3.0          21.3836     22.278      0.960      0.337     -22.289      65.056\n",
       "ROOMS_4             11.2982     24.920      0.453      0.650     -37.555      60.151\n",
       "ROOMS_5              5.6252     24.799      0.227      0.821     -42.990      54.241\n",
       "ROOMS_6             -0.7245     24.824     -0.029      0.977     -49.389      47.940\n",
       "ROOMS_7              2.3804     24.849      0.096      0.924     -46.333      51.094\n",
       "ROOMS_8              5.0294     24.886      0.202      0.840     -43.757      53.816\n",
       "ROOMS_9              6.0028     24.975      0.240      0.810     -42.958      54.963\n",
       "ROOMS_10             0.8774     25.127      0.035      0.972     -48.380      50.135\n",
       "ROOMS_11            19.7256     25.536      0.772      0.440     -30.334      69.785\n",
       "ROOMS_12            -6.9815     25.895     -0.270      0.787     -57.746      43.783\n",
       "ROOMS_13            -3.8767     28.698     -0.135      0.893     -60.136      52.383\n",
       "ROOMS_14            -3.3578     31.873     -0.105      0.916     -65.841      59.125\n",
       "BEDROOMS_2          12.8158      8.320      1.540      0.124      -3.495      29.126\n",
       "BEDROOMS_3          10.8029      8.417      1.284      0.199      -5.697      27.303\n",
       "BEDROOMS_4          10.1206      8.539      1.185      0.236      -6.619      26.860\n",
       "BEDROOMS_5           2.2736      8.997      0.253      0.800     -15.363      19.910\n",
       "BEDROOMS_6          10.0324      9.865      1.017      0.309      -9.307      29.372\n",
       "BEDROOMS_7          13.0231     14.457      0.901      0.368     -15.318      41.364\n",
       "BEDROOMS_8         -16.1230     28.056     -0.575      0.566     -71.124      38.878\n",
       "BEDROOMS_9          71.0378     45.540      1.560      0.119     -18.238     160.313\n",
       "FULL_BATH_2         20.0956      1.528     13.151      0.000      17.100      23.091\n",
       "FULL_BATH_3         54.6993      3.997     13.686      0.000      46.864      62.534\n",
       "FULL_BATH_4        110.5810     12.107      9.133      0.000      86.846     134.316\n",
       "FULL_BATH_5        131.0120     42.514      3.082      0.002      47.669     214.355\n",
       "HALF_BATH_1         18.6293      1.307     14.249      0.000      16.066      21.192\n",
       "HALF_BATH_2         40.9449      3.861     10.604      0.000      33.375      48.514\n",
       "HALF_BATH_3         36.7378     42.138      0.872      0.383     -45.868     119.344\n",
       "KITCHEN_2          -15.5804      4.741     -3.286      0.001     -24.875      -6.286\n",
       "FIREPLACE_1         22.6267      1.238     18.277      0.000      20.200      25.054\n",
       "FIREPLACE_2         30.4371      2.883     10.559      0.000      24.786      36.088\n",
       "FIREPLACE_3         31.0546      9.149      3.394      0.001      13.119      48.990\n",
       "FIREPLACE_4         13.7576     21.294      0.646      0.518     -27.987      55.502\n",
       "REMODEL_None_1      -5.1977      1.865     -2.787      0.005      -8.854      -1.542\n",
       "REMODEL_Recent_1    20.3281      2.260      8.995      0.000      15.898      24.758\n",
       "==============================================================================\n",
       "Omnibus:                      280.598   Durbin-Watson:                   1.573\n",
       "Prob(Omnibus):                  0.000   Jarque-Bera (JB):             1014.326\n",
       "Skew:                           0.047   Prob(JB):                    5.52e-221\n",
       "Kurtosis:                       5.046   Cond. No.                     1.19e+06\n",
       "==============================================================================\n",
       "\n",
       "Warnings:\n",
       "[1] Standard Errors assume that the covariance matrix of the errors is correctly specified.\n",
       "[2] The condition number is large, 1.19e+06. This might indicate that there are\n",
       "strong multicollinearity or other numerical problems.\n",
       "\"\"\""
      ]
     },
     "execution_count": 49,
     "metadata": {},
     "output_type": "execute_result"
    }
   ],
   "source": [
    "# View the model summary\n",
    "valuemodel.summary()"
   ]
  },
  {
   "cell_type": "markdown",
   "metadata": {},
   "source": [
    "#### In the main table, p value of F-stat, 0.00, is well below our level of significance 0.05. So, the overall model is statistically significant and valid for estimating the population Y variable.\n",
    "#### Adjusted R-Squared value of 82.4% indicates good explanatory power of the independent variables for changes in Y variable"
   ]
  },
  {
   "cell_type": "code",
   "execution_count": 50,
   "metadata": {
    "collapsed": true
   },
   "outputs": [
    {
     "data": {
      "text/html": [
       "<div>\n",
       "<style scoped>\n",
       "    .dataframe tbody tr th:only-of-type {\n",
       "        vertical-align: middle;\n",
       "    }\n",
       "\n",
       "    .dataframe tbody tr th {\n",
       "        vertical-align: top;\n",
       "    }\n",
       "\n",
       "    .dataframe thead th {\n",
       "        text-align: right;\n",
       "    }\n",
       "</style>\n",
       "<table border=\"1\" class=\"dataframe\">\n",
       "  <thead>\n",
       "    <tr style=\"text-align: right;\">\n",
       "      <th></th>\n",
       "      <th>coef</th>\n",
       "      <th>pvalue</th>\n",
       "    </tr>\n",
       "  </thead>\n",
       "  <tbody>\n",
       "    <tr>\n",
       "      <td>FULL_BATH_5</td>\n",
       "      <td>131.011983</td>\n",
       "      <td>0.002</td>\n",
       "    </tr>\n",
       "    <tr>\n",
       "      <td>FULL_BATH_4</td>\n",
       "      <td>110.580961</td>\n",
       "      <td>0.000</td>\n",
       "    </tr>\n",
       "    <tr>\n",
       "      <td>const</td>\n",
       "      <td>94.781957</td>\n",
       "      <td>0.000</td>\n",
       "    </tr>\n",
       "    <tr>\n",
       "      <td>FULL_BATH_3</td>\n",
       "      <td>54.699296</td>\n",
       "      <td>0.000</td>\n",
       "    </tr>\n",
       "    <tr>\n",
       "      <td>FLOORS_2.5</td>\n",
       "      <td>44.214189</td>\n",
       "      <td>0.000</td>\n",
       "    </tr>\n",
       "    <tr>\n",
       "      <td>HALF_BATH_2</td>\n",
       "      <td>40.944866</td>\n",
       "      <td>0.000</td>\n",
       "    </tr>\n",
       "    <tr>\n",
       "      <td>FLOORS_2.0</td>\n",
       "      <td>40.467564</td>\n",
       "      <td>0.000</td>\n",
       "    </tr>\n",
       "    <tr>\n",
       "      <td>FIREPLACE_3</td>\n",
       "      <td>31.054566</td>\n",
       "      <td>0.001</td>\n",
       "    </tr>\n",
       "    <tr>\n",
       "      <td>FIREPLACE_2</td>\n",
       "      <td>30.437116</td>\n",
       "      <td>0.000</td>\n",
       "    </tr>\n",
       "    <tr>\n",
       "      <td>FIREPLACE_1</td>\n",
       "      <td>22.626697</td>\n",
       "      <td>0.000</td>\n",
       "    </tr>\n",
       "    <tr>\n",
       "      <td>REMODEL_Recent_1</td>\n",
       "      <td>20.328081</td>\n",
       "      <td>0.000</td>\n",
       "    </tr>\n",
       "    <tr>\n",
       "      <td>FULL_BATH_2</td>\n",
       "      <td>20.095587</td>\n",
       "      <td>0.000</td>\n",
       "    </tr>\n",
       "    <tr>\n",
       "      <td>HALF_BATH_1</td>\n",
       "      <td>18.629327</td>\n",
       "      <td>0.000</td>\n",
       "    </tr>\n",
       "    <tr>\n",
       "      <td>LIVING_AREA</td>\n",
       "      <td>0.048645</td>\n",
       "      <td>0.000</td>\n",
       "    </tr>\n",
       "    <tr>\n",
       "      <td>GROSS_AREA</td>\n",
       "      <td>0.033354</td>\n",
       "      <td>0.000</td>\n",
       "    </tr>\n",
       "    <tr>\n",
       "      <td>LOT_SQFT</td>\n",
       "      <td>0.008630</td>\n",
       "      <td>0.000</td>\n",
       "    </tr>\n",
       "    <tr>\n",
       "      <td>building_age</td>\n",
       "      <td>-0.055355</td>\n",
       "      <td>0.001</td>\n",
       "    </tr>\n",
       "    <tr>\n",
       "      <td>REMODEL_None_1</td>\n",
       "      <td>-5.197686</td>\n",
       "      <td>0.005</td>\n",
       "    </tr>\n",
       "    <tr>\n",
       "      <td>KITCHEN_2</td>\n",
       "      <td>-15.580399</td>\n",
       "      <td>0.001</td>\n",
       "    </tr>\n",
       "  </tbody>\n",
       "</table>\n",
       "</div>"
      ],
      "text/plain": [
       "                        coef  pvalue\n",
       "FULL_BATH_5       131.011983   0.002\n",
       "FULL_BATH_4       110.580961   0.000\n",
       "const              94.781957   0.000\n",
       "FULL_BATH_3        54.699296   0.000\n",
       "FLOORS_2.5         44.214189   0.000\n",
       "HALF_BATH_2        40.944866   0.000\n",
       "FLOORS_2.0         40.467564   0.000\n",
       "FIREPLACE_3        31.054566   0.001\n",
       "FIREPLACE_2        30.437116   0.000\n",
       "FIREPLACE_1        22.626697   0.000\n",
       "REMODEL_Recent_1   20.328081   0.000\n",
       "FULL_BATH_2        20.095587   0.000\n",
       "HALF_BATH_1        18.629327   0.000\n",
       "LIVING_AREA         0.048645   0.000\n",
       "GROSS_AREA          0.033354   0.000\n",
       "LOT_SQFT            0.008630   0.000\n",
       "building_age       -0.055355   0.001\n",
       "REMODEL_None_1     -5.197686   0.005\n",
       "KITCHEN_2         -15.580399   0.001"
      ]
     },
     "execution_count": 50,
     "metadata": {},
     "output_type": "execute_result"
    }
   ],
   "source": [
    "# Display the co-efficients and p values for each independent variable\n",
    "reg_coeff = pd.DataFrame(valuemodel.params, columns = ['coef'])\n",
    "reg_coeff['pvalue'] = valuemodel.pvalues.round(3)\n",
    "\n",
    "#Sort the data in descending order of coefficients to identify X variables with most positive and most negative impact on Y\n",
    "reg_coeff.sort_values(by='coef', ascending=False, inplace=True)\n",
    "\n",
    "#Display only significant X variables\n",
    "reg_coeff[reg_coeff['pvalue']<=0.05]"
   ]
  },
  {
   "cell_type": "markdown",
   "metadata": {},
   "source": [
    "#### Based on the model output, the X variable that has the maximum positive impact on the price is the number of full_bath set to 5"
   ]
  },
  {
   "cell_type": "code",
   "execution_count": 51,
   "metadata": {},
   "outputs": [
    {
     "data": {
      "text/html": [
       "<div>\n",
       "<style scoped>\n",
       "    .dataframe tbody tr th:only-of-type {\n",
       "        vertical-align: middle;\n",
       "    }\n",
       "\n",
       "    .dataframe tbody tr th {\n",
       "        vertical-align: top;\n",
       "    }\n",
       "\n",
       "    .dataframe thead th {\n",
       "        text-align: right;\n",
       "    }\n",
       "</style>\n",
       "<table border=\"1\" class=\"dataframe\">\n",
       "  <thead>\n",
       "    <tr style=\"text-align: right;\">\n",
       "      <th></th>\n",
       "      <th>coef</th>\n",
       "      <th>pvalue</th>\n",
       "    </tr>\n",
       "  </thead>\n",
       "  <tbody>\n",
       "    <tr>\n",
       "      <td>BEDROOMS_9</td>\n",
       "      <td>71.037789</td>\n",
       "      <td>0.119</td>\n",
       "    </tr>\n",
       "    <tr>\n",
       "      <td>HALF_BATH_3</td>\n",
       "      <td>36.737776</td>\n",
       "      <td>0.383</td>\n",
       "    </tr>\n",
       "    <tr>\n",
       "      <td>FLOORS_3.0</td>\n",
       "      <td>21.383554</td>\n",
       "      <td>0.337</td>\n",
       "    </tr>\n",
       "    <tr>\n",
       "      <td>ROOMS_11</td>\n",
       "      <td>19.725552</td>\n",
       "      <td>0.440</td>\n",
       "    </tr>\n",
       "    <tr>\n",
       "      <td>FIREPLACE_4</td>\n",
       "      <td>13.757595</td>\n",
       "      <td>0.518</td>\n",
       "    </tr>\n",
       "    <tr>\n",
       "      <td>BEDROOMS_7</td>\n",
       "      <td>13.023144</td>\n",
       "      <td>0.368</td>\n",
       "    </tr>\n",
       "    <tr>\n",
       "      <td>BEDROOMS_2</td>\n",
       "      <td>12.815781</td>\n",
       "      <td>0.124</td>\n",
       "    </tr>\n",
       "    <tr>\n",
       "      <td>ROOMS_4</td>\n",
       "      <td>11.298218</td>\n",
       "      <td>0.650</td>\n",
       "    </tr>\n",
       "    <tr>\n",
       "      <td>BEDROOMS_3</td>\n",
       "      <td>10.802886</td>\n",
       "      <td>0.199</td>\n",
       "    </tr>\n",
       "    <tr>\n",
       "      <td>BEDROOMS_4</td>\n",
       "      <td>10.120570</td>\n",
       "      <td>0.236</td>\n",
       "    </tr>\n",
       "    <tr>\n",
       "      <td>BEDROOMS_6</td>\n",
       "      <td>10.032417</td>\n",
       "      <td>0.309</td>\n",
       "    </tr>\n",
       "    <tr>\n",
       "      <td>ROOMS_9</td>\n",
       "      <td>6.002806</td>\n",
       "      <td>0.810</td>\n",
       "    </tr>\n",
       "    <tr>\n",
       "      <td>ROOMS_5</td>\n",
       "      <td>5.625205</td>\n",
       "      <td>0.821</td>\n",
       "    </tr>\n",
       "    <tr>\n",
       "      <td>ROOMS_8</td>\n",
       "      <td>5.029351</td>\n",
       "      <td>0.840</td>\n",
       "    </tr>\n",
       "    <tr>\n",
       "      <td>ROOMS_7</td>\n",
       "      <td>2.380372</td>\n",
       "      <td>0.924</td>\n",
       "    </tr>\n",
       "    <tr>\n",
       "      <td>BEDROOMS_5</td>\n",
       "      <td>2.273566</td>\n",
       "      <td>0.800</td>\n",
       "    </tr>\n",
       "    <tr>\n",
       "      <td>ROOMS_10</td>\n",
       "      <td>0.877372</td>\n",
       "      <td>0.972</td>\n",
       "    </tr>\n",
       "    <tr>\n",
       "      <td>ROOMS_6</td>\n",
       "      <td>-0.724483</td>\n",
       "      <td>0.977</td>\n",
       "    </tr>\n",
       "    <tr>\n",
       "      <td>FLOORS_1.5</td>\n",
       "      <td>-2.710469</td>\n",
       "      <td>0.170</td>\n",
       "    </tr>\n",
       "    <tr>\n",
       "      <td>ROOMS_14</td>\n",
       "      <td>-3.357805</td>\n",
       "      <td>0.916</td>\n",
       "    </tr>\n",
       "    <tr>\n",
       "      <td>ROOMS_13</td>\n",
       "      <td>-3.876675</td>\n",
       "      <td>0.893</td>\n",
       "    </tr>\n",
       "    <tr>\n",
       "      <td>ROOMS_12</td>\n",
       "      <td>-6.981487</td>\n",
       "      <td>0.787</td>\n",
       "    </tr>\n",
       "    <tr>\n",
       "      <td>BEDROOMS_8</td>\n",
       "      <td>-16.122958</td>\n",
       "      <td>0.566</td>\n",
       "    </tr>\n",
       "  </tbody>\n",
       "</table>\n",
       "</div>"
      ],
      "text/plain": [
       "                  coef  pvalue\n",
       "BEDROOMS_9   71.037789   0.119\n",
       "HALF_BATH_3  36.737776   0.383\n",
       "FLOORS_3.0   21.383554   0.337\n",
       "ROOMS_11     19.725552   0.440\n",
       "FIREPLACE_4  13.757595   0.518\n",
       "BEDROOMS_7   13.023144   0.368\n",
       "BEDROOMS_2   12.815781   0.124\n",
       "ROOMS_4      11.298218   0.650\n",
       "BEDROOMS_3   10.802886   0.199\n",
       "BEDROOMS_4   10.120570   0.236\n",
       "BEDROOMS_6   10.032417   0.309\n",
       "ROOMS_9       6.002806   0.810\n",
       "ROOMS_5       5.625205   0.821\n",
       "ROOMS_8       5.029351   0.840\n",
       "ROOMS_7       2.380372   0.924\n",
       "BEDROOMS_5    2.273566   0.800\n",
       "ROOMS_10      0.877372   0.972\n",
       "ROOMS_6      -0.724483   0.977\n",
       "FLOORS_1.5   -2.710469   0.170\n",
       "ROOMS_14     -3.357805   0.916\n",
       "ROOMS_13     -3.876675   0.893\n",
       "ROOMS_12     -6.981487   0.787\n",
       "BEDROOMS_8  -16.122958   0.566"
      ]
     },
     "execution_count": 51,
     "metadata": {},
     "output_type": "execute_result"
    }
   ],
   "source": [
    "#X variables that are not significant\n",
    "reg_coeff[reg_coeff['pvalue']>0.05]"
   ]
  },
  {
   "cell_type": "code",
   "execution_count": 52,
   "metadata": {},
   "outputs": [
    {
     "data": {
      "text/plain": [
       "1    457.807584\n",
       "2    364.566396\n",
       "3    549.194207\n",
       "4    349.392362\n",
       "5    290.395487\n",
       "6    401.965124\n",
       "7    314.107413\n",
       "8    348.959515\n",
       "9    508.853503\n",
       "dtype: float64"
      ]
     },
     "execution_count": 52,
     "metadata": {},
     "output_type": "execute_result"
    }
   ],
   "source": [
    "# Predict dependent variable using the created model\n",
    "predictions = valuemodel.predict(X)\n",
    "predictions[1:10]"
   ]
  },
  {
   "cell_type": "markdown",
   "metadata": {},
   "source": [
    "#### Predicted property value  for the first 10 records"
   ]
  },
  {
   "cell_type": "code",
   "execution_count": 53,
   "metadata": {},
   "outputs": [],
   "source": [
    "# Create the linear regression model based using sklearn library\n",
    "lm = linear_model.LinearRegression()\n",
    "model = lm.fit(X,y)"
   ]
  },
  {
   "cell_type": "code",
   "execution_count": 54,
   "metadata": {},
   "outputs": [
    {
     "data": {
      "text/plain": [
       "0.8239060689336053"
      ]
     },
     "execution_count": 54,
     "metadata": {},
     "output_type": "execute_result"
    }
   ],
   "source": [
    "# The R-square of the model\n",
    "lm.score(X,y)"
   ]
  },
  {
   "cell_type": "markdown",
   "metadata": {},
   "source": [
    "####  R-Squared value of 81% indicates good explanatory power of the independent variables for changes in Y variable"
   ]
  },
  {
   "cell_type": "code",
   "execution_count": 55,
   "metadata": {
    "scrolled": true
   },
   "outputs": [
    {
     "data": {
      "text/plain": [
       "array([ 8.07351379e-12,  8.62994495e-03, -5.53550046e-02,  3.33543380e-02,\n",
       "        4.86448027e-02, -2.71046895e+00,  4.04675645e+01,  4.42141894e+01,\n",
       "        2.13835536e+01,  1.12982180e+01,  5.62520517e+00, -7.24483408e-01,\n",
       "        2.38037224e+00,  5.02935145e+00,  6.00280613e+00,  8.77371893e-01,\n",
       "        1.97255524e+01, -6.98148732e+00, -3.87667478e+00, -3.35780470e+00,\n",
       "        1.28157814e+01,  1.08028856e+01,  1.01205704e+01,  2.27356569e+00,\n",
       "        1.00324168e+01,  1.30231443e+01, -1.61229578e+01,  7.10377893e+01,\n",
       "        2.00955874e+01,  5.46992961e+01,  1.10580961e+02,  1.31011983e+02,\n",
       "        1.86293266e+01,  4.09448660e+01,  3.67377756e+01, -1.55803991e+01,\n",
       "        2.26266969e+01,  3.04371164e+01,  3.10545657e+01,  1.37575950e+01,\n",
       "       -5.19768634e+00,  2.03280815e+01])"
      ]
     },
     "execution_count": 55,
     "metadata": {},
     "output_type": "execute_result"
    }
   ],
   "source": [
    "# Coefficients of the created model\n",
    "lm.coef_"
   ]
  },
  {
   "cell_type": "code",
   "execution_count": 56,
   "metadata": {
    "scrolled": true
   },
   "outputs": [
    {
     "data": {
      "text/plain": [
       "94.78195676717343"
      ]
     },
     "execution_count": 56,
     "metadata": {},
     "output_type": "execute_result"
    }
   ],
   "source": [
    "# Intercept for the created model\n",
    "lm.intercept_"
   ]
  },
  {
   "cell_type": "markdown",
   "metadata": {},
   "source": [
    "#### The Y-intercept or constant value is 94.78"
   ]
  },
  {
   "cell_type": "code",
   "execution_count": 57,
   "metadata": {},
   "outputs": [
    {
     "name": "stdout",
     "output_type": "stream",
     "text": [
      "[384.02620511 457.80758357 364.56639576 549.19420659 349.39236176]\n"
     ]
    }
   ],
   "source": [
    "### Predict the dependent variable, value of the property, using the model\n",
    "\n",
    "# Predict dependent variable using the created model\n",
    "predictions = lm.predict(X)\n",
    "print(predictions[0:5]) # First five housing prices"
   ]
  },
  {
   "cell_type": "markdown",
   "metadata": {},
   "source": [
    "#### Predicted property value for the first 5 records"
   ]
  },
  {
   "cell_type": "code",
   "execution_count": 58,
   "metadata": {},
   "outputs": [],
   "source": [
    "# Import the Sklearn Model Performance Metrics\n",
    "from sklearn.metrics import mean_absolute_error\n",
    "from sklearn.metrics import mean_squared_error"
   ]
  },
  {
   "cell_type": "code",
   "execution_count": 59,
   "metadata": {},
   "outputs": [
    {
     "name": "stdout",
     "output_type": "stream",
     "text": [
      "31.292\n"
     ]
    }
   ],
   "source": [
    "# Calculate MAE value for model evaluation\n",
    "mae = mean_absolute_error(y,predictions)\n",
    "print(np.round(mae,3))"
   ]
  },
  {
   "cell_type": "code",
   "execution_count": 60,
   "metadata": {},
   "outputs": [
    {
     "name": "stdout",
     "output_type": "stream",
     "text": [
      "1731.789\n",
      "41.615\n"
     ]
    }
   ],
   "source": [
    "# Calculate RMSE\n",
    "mse = mean_squared_error(y,predictions)\n",
    "rmse = np.sqrt(mse)\n",
    "print(np.round(mse,3))\n",
    "print(np.round(rmse,3))"
   ]
  },
  {
   "cell_type": "code",
   "execution_count": 61,
   "metadata": {},
   "outputs": [
    {
     "data": {
      "text/plain": [
       "8.129999999999999"
      ]
     },
     "execution_count": 61,
     "metadata": {},
     "output_type": "execute_result"
    }
   ],
   "source": [
    "# Calculate MAPE\n",
    "actual  = y\n",
    "abs_error = np.abs(actual - predictions)\n",
    "mape = np.round(np.mean(abs_error/actual),4)*100\n",
    "mape"
   ]
  },
  {
   "cell_type": "markdown",
   "metadata": {},
   "source": [
    "#### MAE is 31.292, RMSE is 41.615. \n",
    "#### MAPE value of 8.12 indicates good prediction accuracy of the model"
   ]
  }
 ],
 "metadata": {
  "kernelspec": {
   "display_name": "Python 3",
   "language": "python",
   "name": "python3"
  },
  "language_info": {
   "codemirror_mode": {
    "name": "ipython",
    "version": 3
   },
   "file_extension": ".py",
   "mimetype": "text/x-python",
   "name": "python",
   "nbconvert_exporter": "python",
   "pygments_lexer": "ipython3",
   "version": "3.7.4"
  }
 },
 "nbformat": 4,
 "nbformat_minor": 2
}
